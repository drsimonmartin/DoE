{
 "cells": [
  {
   "cell_type": "markdown",
   "id": "d7d81640-53fa-41f5-86ba-b001757543e6",
   "metadata": {},
   "source": [
    "# DOE notebook\n",
    "this jupyter notebook can be used to write/test python code to invesitgate using Design of Experiment libraries.\n",
    "\n",
    "**Important** this "
   ]
  }
 ],
 "metadata": {
  "kernelspec": {
   "display_name": "Python 3 (ipykernel)",
   "language": "python",
   "name": "python3"
  },
  "language_info": {
   "codemirror_mode": {
    "name": "ipython",
    "version": 3
   },
   "file_extension": ".py",
   "mimetype": "text/x-python",
   "name": "python",
   "nbconvert_exporter": "python",
   "pygments_lexer": "ipython3",
   "version": "3.11.10"
  }
 },
 "nbformat": 4,
 "nbformat_minor": 5
}
